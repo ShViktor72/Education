{
 "cells": [
  {
   "cell_type": "code",
   "execution_count": 1,
   "metadata": {},
   "outputs": [],
   "source": [
    "from pyspark.sql import SparkSession\n",
    "from pyspark.sql.functions import col"
   ]
  },
  {
   "cell_type": "code",
   "execution_count": 3,
   "metadata": {},
   "outputs": [],
   "source": [
    "# Создание SparkSession\n",
    "spark = SparkSession.builder \\\n",
    "    .master(\"spark://spark-master:7077\") \\\n",
    "    .appName(\"WordCount\") \\\n",
    "    .getOrCreate()"
   ]
  },
  {
   "cell_type": "code",
   "execution_count": 28,
   "metadata": {},
   "outputs": [],
   "source": [
    "# Чтение CSV файла\n",
    "df = spark.read.csv(\"hdfs://namenode:8020/airports.dat\", header=True, inferSchema=True)\n"
   ]
  },
  {
   "cell_type": "code",
   "execution_count": 29,
   "metadata": {
    "scrolled": true
   },
   "outputs": [
    {
     "name": "stdout",
     "output_type": "stream",
     "text": [
      "+---+--------------------+-----------+----------------+---+----+------------------+------------------+----+---+---+--------------------+-------+-----------+\n",
      "|  1|      Goroka Airport|     Goroka|Papua New Guinea|GKA|AYGA|-6.081689834590001|     145.391998291|5282| 10|  U|Pacific/Port_Moresby|airport|OurAirports|\n",
      "+---+--------------------+-----------+----------------+---+----+------------------+------------------+----+---+---+--------------------+-------+-----------+\n",
      "|  2|      Madang Airport|     Madang|Papua New Guinea|MAG|AYMD|    -5.20707988739|     145.789001465|  20| 10|  U|Pacific/Port_Moresby|airport|OurAirports|\n",
      "|  3|Mount Hagen Kagam...|Mount Hagen|Papua New Guinea|HGU|AYMH|-5.826789855957031|144.29600524902344|5388| 10|  U|Pacific/Port_Moresby|airport|OurAirports|\n",
      "+---+--------------------+-----------+----------------+---+----+------------------+------------------+----+---+---+--------------------+-------+-----------+\n",
      "only showing top 2 rows\n",
      "\n"
     ]
    }
   ],
   "source": [
    "# Вывод первых 5 строк\n",
    "df.show(2)\n"
   ]
  },
  {
   "cell_type": "code",
   "execution_count": 18,
   "metadata": {},
   "outputs": [
    {
     "name": "stdout",
     "output_type": "stream",
     "text": [
      "+----+--------------------+---------------+----------+---+----+------------------+-----------------+----+---+----+--------------+-------+-----------+\n",
      "| _c0|                 _c1|            _c2|       _c3|_c4| _c5|               _c6|              _c7| _c8|_c9|_c10|          _c11|   _c12|       _c13|\n",
      "+----+--------------------+---------------+----------+---+----+------------------+-----------------+----+---+----+--------------+-------+-----------+\n",
      "|2908|      Almaty Airport|       Alma-ata|Kazakhstan|ALA|UAAA| 43.35210037231445|77.04049682617188|2234|  6|   U|Asia/Qyzylorda|airport|OurAirports|\n",
      "|2909|    Balkhash Airport|       Balkhash|Kazakhstan|BXH|UAAH|  46.8932991027832|75.00499725341797|1446|  6|   U|Asia/Qyzylorda|airport|OurAirports|\n",
      "|2910|Astana Internatio...|    Tselinograd|Kazakhstan|TSE|UACC| 51.02220153808594|71.46690368652344|1165|  6|   U|Asia/Qyzylorda|airport|OurAirports|\n",
      "|2911|       Taraz Airport|       Dzhambul|Kazakhstan|DMB|UADD|42.853599548339844|71.30359649658203|2184|  6|   U|Asia/Qyzylorda|airport|OurAirports|\n",
      "|2914|    Shymkent Airport|       Chimkent|Kazakhstan|CIT|UAII|42.364200592041016|69.47889709472656|1385|  6|   U|Asia/Qyzylorda|airport|OurAirports|\n",
      "|2916|      Uralsk Airport|         Uralsk|Kazakhstan|URA|UARR| 51.15079879760742|51.54309844970703| 125|  5|   U|     Asia/Oral|airport|OurAirports|\n",
      "|2917|    Pavlodar Airport|       Pavlodar|Kazakhstan|PWQ|UASP| 52.19499969482422|77.07389831542969| 410|  6|   U|Asia/Qyzylorda|airport|OurAirports|\n",
      "|2918|Semipalatinsk Air...|   Semiplatinsk|Kazakhstan|PLX|UASS|         50.351295|        80.234398| 761|  6|   U|Asia/Qyzylorda|airport|OurAirports|\n",
      "|2920|      Aktobe Airport|     Aktyubinsk|Kazakhstan|AKX|UATT|           50.2458|        57.206699| 738|  5|   U|     Asia/Oral|airport|OurAirports|\n",
      "|4357|      Atyrau Airport|         Atyrau|Kazakhstan|GUW|UATG| 47.12189865112305| 51.8213996887207| -72|  5|   U|     Asia/Oral|airport|OurAirports|\n",
      "|4358|Kzyl-Orda Southwe...|      Kzyl-Orda|Kazakhstan|KZO|UAOO|         44.706902|        65.592499| 433|  6|   U|Asia/Qyzylorda|airport|OurAirports|\n",
      "|4367|       Aktau Airport|          Aktau|Kazakhstan|SCO|UATE|           43.8601|        51.091999|  73|  5|   U|     Asia/Oral|airport|OurAirports|\n",
      "|4375|   Sary-Arka Airport|      Karaganda|Kazakhstan|KGF|UAKK|49.670799255371094|73.33439636230469|1765|  6|   U|Asia/Qyzylorda|airport|OurAirports|\n",
      "|6083|   Kokshetau Airport|      Kokshetau|Kazakhstan|KOV|UACK|         53.329102|        69.594597| 900|  6|   U|Asia/Qyzylorda|airport|OurAirports|\n",
      "|6084|Petropavlosk Sout...|   Petropavlosk|Kazakhstan|PPK|UACP| 54.77470016479492|69.18389892578125| 453|  6|   U|Asia/Qyzylorda|airport|OurAirports|\n",
      "|6085|  Zhezkazgan Airport|     Zhezkazgan|Kazakhstan|DZN|UAKD|         47.708302|        67.733299|1250|  6|   U|Asia/Qyzylorda|airport|OurAirports|\n",
      "|6086|Ust-Kamennogorsk ...|Ust Kamenogorsk|Kazakhstan|UKK|UASK|50.036598205566406|82.49420166015625| 939|  6|   U|Asia/Qyzylorda|airport|OurAirports|\n",
      "|6088|Kostanay West Air...|       Kostanay|Kazakhstan|KSN|UAUU| 53.20690155029297|63.55030059814453| 595|  6|   U|Asia/Qyzylorda|airport|OurAirports|\n",
      "|7131|Arkalyk North Air...|        Arkalyk|Kazakhstan|AYK|UAUR|50.318599700927734|66.95279693603516|1266|  6|   U|Asia/Qyzylorda|airport|OurAirports|\n",
      "|7469|   Ak Bashat Airport|    Taldykorgan|Kazakhstan| \\N|UAAT|          42.88958|        73.602004|   0|  6|   U|  Asia/Bishkek|airport|OurAirports|\n",
      "+----+--------------------+---------------+----------+---+----+------------------+-----------------+----+---+----+--------------+-------+-----------+\n",
      "only showing top 20 rows\n",
      "\n"
     ]
    }
   ],
   "source": [
    "# Фильтрация данных\n",
    "high_price_products = df.filter(col(\"_c3\") == \"Kazakhstan\")\n",
    "high_price_products.show()"
   ]
  },
  {
   "cell_type": "code",
   "execution_count": 19,
   "metadata": {},
   "outputs": [],
   "source": [
    "# Присвоение имен колонкам\n",
    "df = df.withColumnRenamed(\"_c0\", \"id\") \\\n",
    "       .withColumnRenamed(\"_c1\", \"name\") \\\n",
    "       .withColumnRenamed(\"_c2\", \"city\") \\\n",
    "       .withColumnRenamed(\"_c3\", \"country\") \\\n",
    "       .withColumnRenamed(\"_c4\", \"iata_code\") \\\n",
    "       .withColumnRenamed(\"_c5\", \"icao_code\") \\\n",
    "       .withColumnRenamed(\"_c6\", \"latitude\") \\\n",
    "       .withColumnRenamed(\"_c7\", \"longitude\") \\\n",
    "       .withColumnRenamed(\"_c8\", \"altitude\") \\\n",
    "       .withColumnRenamed(\"_c9\", \"timezone\") \\\n",
    "       .withColumnRenamed(\"_c10\", \"type\") \\\n",
    "       .withColumnRenamed(\"_c11\", \"region\") \\\n",
    "       .withColumnRenamed(\"_c12\", \"object_type\") \\\n",
    "       .withColumnRenamed(\"_c13\", \"source\")"
   ]
  },
  {
   "cell_type": "code",
   "execution_count": 20,
   "metadata": {},
   "outputs": [
    {
     "name": "stdout",
     "output_type": "stream",
     "text": [
      "+---+--------------------+------------+----------------+---------+---------+------------------+------------------+--------+--------+----+--------------------+-----------+-----------+\n",
      "| id|                name|        city|         country|iata_code|icao_code|          latitude|         longitude|altitude|timezone|type|              region|object_type|     source|\n",
      "+---+--------------------+------------+----------------+---------+---------+------------------+------------------+--------+--------+----+--------------------+-----------+-----------+\n",
      "|  1|      Goroka Airport|      Goroka|Papua New Guinea|      GKA|     AYGA|-6.081689834590001|     145.391998291|    5282|      10|   U|Pacific/Port_Moresby|    airport|OurAirports|\n",
      "|  2|      Madang Airport|      Madang|Papua New Guinea|      MAG|     AYMD|    -5.20707988739|     145.789001465|      20|      10|   U|Pacific/Port_Moresby|    airport|OurAirports|\n",
      "|  3|Mount Hagen Kagam...| Mount Hagen|Papua New Guinea|      HGU|     AYMH|-5.826789855957031|144.29600524902344|    5388|      10|   U|Pacific/Port_Moresby|    airport|OurAirports|\n",
      "|  4|      Nadzab Airport|      Nadzab|Papua New Guinea|      LAE|     AYNZ|         -6.569803|        146.725977|     239|      10|   U|Pacific/Port_Moresby|    airport|OurAirports|\n",
      "|  5|Port Moresby Jack...|Port Moresby|Papua New Guinea|      POM|     AYPY|-9.443380355834961|147.22000122070312|     146|      10|   U|Pacific/Port_Moresby|    airport|OurAirports|\n",
      "+---+--------------------+------------+----------------+---------+---------+------------------+------------------+--------+--------+----+--------------------+-----------+-----------+\n",
      "only showing top 5 rows\n",
      "\n"
     ]
    }
   ],
   "source": [
    "# Вывод первых 5 строк\n",
    "df.show(5)"
   ]
  },
  {
   "cell_type": "code",
   "execution_count": 23,
   "metadata": {},
   "outputs": [
    {
     "name": "stdout",
     "output_type": "stream",
     "text": [
      "+--------------------+------------+----------------+---------+--------+\n",
      "|                name|        city|         country|iata_code|timezone|\n",
      "+--------------------+------------+----------------+---------+--------+\n",
      "|      Goroka Airport|      Goroka|Papua New Guinea|      GKA|      10|\n",
      "|      Madang Airport|      Madang|Papua New Guinea|      MAG|      10|\n",
      "|Mount Hagen Kagam...| Mount Hagen|Papua New Guinea|      HGU|      10|\n",
      "|      Nadzab Airport|      Nadzab|Papua New Guinea|      LAE|      10|\n",
      "|Port Moresby Jack...|Port Moresby|Papua New Guinea|      POM|      10|\n",
      "+--------------------+------------+----------------+---------+--------+\n",
      "only showing top 5 rows\n",
      "\n"
     ]
    }
   ],
   "source": [
    "# Вывод только определенных колонок\n",
    "selected_columns = df.select(\"name\", \"city\", \"country\", \"iata_code\", \"timezone\")\n",
    "selected_columns.show(5)"
   ]
  },
  {
   "cell_type": "code",
   "execution_count": 24,
   "metadata": {},
   "outputs": [
    {
     "name": "stdout",
     "output_type": "stream",
     "text": [
      "+--------------------+---------------+----------+---------+--------+\n",
      "|                name|           city|   country|iata_code|timezone|\n",
      "+--------------------+---------------+----------+---------+--------+\n",
      "|      Almaty Airport|       Alma-ata|Kazakhstan|      ALA|       6|\n",
      "|    Balkhash Airport|       Balkhash|Kazakhstan|      BXH|       6|\n",
      "|Astana Internatio...|    Tselinograd|Kazakhstan|      TSE|       6|\n",
      "|       Taraz Airport|       Dzhambul|Kazakhstan|      DMB|       6|\n",
      "|    Shymkent Airport|       Chimkent|Kazakhstan|      CIT|       6|\n",
      "|      Uralsk Airport|         Uralsk|Kazakhstan|      URA|       5|\n",
      "|    Pavlodar Airport|       Pavlodar|Kazakhstan|      PWQ|       6|\n",
      "|Semipalatinsk Air...|   Semiplatinsk|Kazakhstan|      PLX|       6|\n",
      "|      Aktobe Airport|     Aktyubinsk|Kazakhstan|      AKX|       5|\n",
      "|      Atyrau Airport|         Atyrau|Kazakhstan|      GUW|       5|\n",
      "|Kzyl-Orda Southwe...|      Kzyl-Orda|Kazakhstan|      KZO|       6|\n",
      "|       Aktau Airport|          Aktau|Kazakhstan|      SCO|       5|\n",
      "|   Sary-Arka Airport|      Karaganda|Kazakhstan|      KGF|       6|\n",
      "|   Kokshetau Airport|      Kokshetau|Kazakhstan|      KOV|       6|\n",
      "|Petropavlosk Sout...|   Petropavlosk|Kazakhstan|      PPK|       6|\n",
      "|  Zhezkazgan Airport|     Zhezkazgan|Kazakhstan|      DZN|       6|\n",
      "|Ust-Kamennogorsk ...|Ust Kamenogorsk|Kazakhstan|      UKK|       6|\n",
      "|Kostanay West Air...|       Kostanay|Kazakhstan|      KSN|       6|\n",
      "|Arkalyk North Air...|        Arkalyk|Kazakhstan|      AYK|       6|\n",
      "|   Ak Bashat Airport|    Taldykorgan|Kazakhstan|       \\N|       6|\n",
      "+--------------------+---------------+----------+---------+--------+\n",
      "only showing top 20 rows\n",
      "\n"
     ]
    }
   ],
   "source": [
    "kazAirports = selected_columns.filter(col(\"_c3\") == \"Kazakhstan\")\n",
    "kazAirports .show()"
   ]
  },
  {
   "cell_type": "code",
   "execution_count": 25,
   "metadata": {},
   "outputs": [
    {
     "name": "stdout",
     "output_type": "stream",
     "text": [
      "+--------------------+-----------------+-------+---------+--------+\n",
      "|                name|             city|country|iata_code|timezone|\n",
      "+--------------------+-----------------+-------+---------+--------+\n",
      "|     Yakutsk Airport|          Yakutsk| Russia|      YKS|       9|\n",
      "|       Mirny Airport|           Mirnyj| Russia|      MJZ|       9|\n",
      "|   Ignatyevo Airport|   Blagoveschensk| Russia|      BQS|       9|\n",
      "|Khabarovsk-Novy A...|       Khabarovsk| Russia|      KHV|      10|\n",
      "|Provideniya Bay A...|  Provideniya Bay| Russia|      PVS|      12|\n",
      "|       Sokol Airport|          Magadan| Russia|      GDX|      11|\n",
      "|       Pevek Airport|            Pevek| Russia|      PWE|      12|\n",
      "|    Yelizovo Airport|    Petropavlovsk| Russia|      PKC|      12|\n",
      "|Yuzhno-Sakhalinsk...|Yuzhno-sakhalinsk| Russia|      UUS|      11|\n",
      "|Vladivostok Inter...|      Vladivostok| Russia|      VVO|      10|\n",
      "|Chita-Kadala Airport|            Chita| Russia|      HTA|       9|\n",
      "|      Bratsk Airport|           Bratsk| Russia|      BTK|       8|\n",
      "|     Irkutsk Airport|          Irkutsk| Russia|      IKT|       8|\n",
      "|Ulan-Ude Airport ...|         Ulan-ude| Russia|      UUD|       8|\n",
      "|     Pulkovo Airport|   St. Petersburg| Russia|      LED|       3|\n",
      "|    Murmansk Airport|         Murmansk| Russia|      MMK|       3|\n",
      "|   Khrabrovo Airport|      Kaliningrad| Russia|      KGD|       2|\n",
      "|      Abakan Airport|           Abakan| Russia|      ABA|       7|\n",
      "|     Barnaul Airport|          Barnaul| Russia|      BAX|       7|\n",
      "|    Kemerovo Airport|         Kemorovo| Russia|      KEJ|       7|\n",
      "+--------------------+-----------------+-------+---------+--------+\n",
      "only showing top 20 rows\n",
      "\n"
     ]
    }
   ],
   "source": [
    "kazAirports = selected_columns.filter(col(\"_c3\") == \"Russia\")\n",
    "kazAirports .show()"
   ]
  },
  {
   "cell_type": "code",
   "execution_count": null,
   "metadata": {},
   "outputs": [],
   "source": []
  }
 ],
 "metadata": {
  "kernelspec": {
   "display_name": "Python 3",
   "language": "python",
   "name": "python3"
  },
  "language_info": {
   "codemirror_mode": {
    "name": "ipython",
    "version": 3
   },
   "file_extension": ".py",
   "mimetype": "text/x-python",
   "name": "python",
   "nbconvert_exporter": "python",
   "pygments_lexer": "ipython3",
   "version": "3.7.6"
  }
 },
 "nbformat": 4,
 "nbformat_minor": 4
}
