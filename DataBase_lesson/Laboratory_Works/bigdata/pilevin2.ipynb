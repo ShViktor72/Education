{
 "cells": [
  {
   "cell_type": "code",
   "execution_count": 9,
   "metadata": {},
   "outputs": [
    {
     "name": "stdout",
     "output_type": "stream",
     "text": [
      "Hello\n"
     ]
    }
   ],
   "source": [
    "print(\"Hello\")"
   ]
  },
  {
   "cell_type": "code",
   "execution_count": 10,
   "metadata": {},
   "outputs": [
    {
     "name": "stdout",
     "output_type": "stream",
     "text": [
      "Requirement already satisfied: pyspark in /usr/local/spark-2.4.5-bin-hadoop2.7/python (2.4.5)\n",
      "Requirement already satisfied: py4j==0.10.7 in /opt/conda/lib/python3.7/site-packages (from pyspark) (0.10.7)\n",
      "Note: you may need to restart the kernel to use updated packages.\n"
     ]
    }
   ],
   "source": [
    "pip install pyspark"
   ]
  },
  {
   "cell_type": "code",
   "execution_count": 45,
   "metadata": {},
   "outputs": [],
   "source": [
    "from pyspark.sql import SparkSession\n",
    "from pyspark.sql.functions import explode, split, col, regexp_replace, trim, lower, concat_ws, collect_list, udf\n",
    "from pyspark.sql.types import FloatType"
   ]
  },
  {
   "cell_type": "code",
   "execution_count": 12,
   "metadata": {},
   "outputs": [],
   "source": [
    "# Создание SparkSession\n",
    "spark = SparkSession.builder \\\n",
    "    .master(\"spark://spark-master:7077\") \\\n",
    "    .appName(\"WordCount\") \\\n",
    "    .getOrCreate()"
   ]
  },
  {
   "cell_type": "code",
   "execution_count": 15,
   "metadata": {},
   "outputs": [
    {
     "name": "stdout",
     "output_type": "stream",
     "text": [
      "<pyspark.sql.session.SparkSession object at 0x7fbaf079e510>\n"
     ]
    }
   ],
   "source": [
    "# Проверка сессии\n",
    "print(spark)"
   ]
  },
  {
   "cell_type": "code",
   "execution_count": 17,
   "metadata": {},
   "outputs": [],
   "source": [
    "# Чтение текстового файла, где каждая строка файла - это строка DataFrame\n",
    "df = spark.read.text(\"hdfs://namenode:8020/pilevin.txt\").withColumnRenamed(\"value\", \"line\") "
   ]
  },
  {
   "cell_type": "code",
   "execution_count": 22,
   "metadata": {},
   "outputs": [],
   "source": [
    "# Очистка текста\n",
    "cleaned_df = df \\\n",
    "    .withColumn(\"line\", trim(col(\"line\"))) \\\n",
    "    .withColumn(\"line\", regexp_replace(col(\"line\"), r\"[^a-zA-Zа-яА-Я0-9\\s]\", \"\")) \\\n",
    "    .withColumn(\"line\", lower(col(\"line\")))\n",
    "\n",
    "# Удаление пустых строк\n",
    "cleaned_df = cleaned_df.filter(col(\"line\") != \"\")"
   ]
  },
  {
   "cell_type": "code",
   "execution_count": 23,
   "metadata": {},
   "outputs": [
    {
     "name": "stdout",
     "output_type": "stream",
     "text": [
      "+--------------------------------------------------------------------------------------------------------------------------------------------------------------------------------------------------------------------------------------------------------------+\n",
      "|line                                                                                                                                                                                                                                                          |\n",
      "+--------------------------------------------------------------------------------------------------------------------------------------------------------------------------------------------------------------------------------------------------------------+\n",
      "|transhumanism inc трансгуманизм inc                                                                                                                                                                                                                           |\n",
      "|виктор олегович пелевин                                                                                                                                                                                                                                       |\n",
      "|единственный и неповторимый виктор пелевин                                                                                                                                                                                                                    |\n",
      "|в будущем богатые люди смогут отделить свой мозг от старящегося тела  и станут жить почти вечно в особом баночном измерении туда уйдут вожди мировые олигархи и архитекторы миропорядка там будет возможно все                                                |\n",
      "|но в банку пустят не каждого на земле останется зеленая посткарбоновая цивилизация уменьшенная до размеров обслуживающего персонала и слугибиороботы                                                                                                          |\n",
      "|кто и как будет бороться за власть в этом архаичнофутуристическом мире победившего матриархата к чему будут стремиться очипованные люди какими станут межпоколенческие проблемы когда для поколений перестанет хватать букв и самое главное какой будет любовь|\n",
      "|в связи с нравственным возрождением нашего общества в книге нет мата но автору все равно удается сказать правду о самом главном                                                                                                                               |\n",
      "|больше интересных фактов об этой книге читайте в литрес журнале httpsjournallitresrutranshumanismincchtohochetskazatnamviktorpelevinvnovomromane                                                                                                              |\n",
      "|виктор олегович пелевин                                                                                                                                                                                                                                       |\n",
      "|transhumanism inc                                                                                                                                                                                                                                             |\n",
      "|в оформлении использованы работы в о пелевина здравствуй сестра гурия 7 и ночь в фонтенбло                                                                                                                                                                    |\n",
      "|в о пелевин текст 2021                                                                                                                                                                                                                                        |\n",
      "|оформление ооо издательство эксмо 2021                                                                                                                                                                                                                        |\n",
      "|                                                                                                                                                                                                                                                              |\n",
      "|ты поверь в иную жизнь на другой меже                                                                                                                                                                                                                         |\n",
      "|transhumanism inc                                                                                                                                                                                                                                             |\n",
      "|главный вопрос который ставит перед нами будущее это кого туда пустить                                                                                                                                                                                        |\n",
      "|атон гольденштерн ceo                                                                                                                                                                                                                                         |\n",
      "|transhumanism inc                                                                                                                                                                                                                                             |\n",
      "|гольденштерн все                                                                                                                                                                                                                                              |\n",
      "+--------------------------------------------------------------------------------------------------------------------------------------------------------------------------------------------------------------------------------------------------------------+\n",
      "only showing top 20 rows\n",
      "\n"
     ]
    }
   ],
   "source": [
    "# Вывод первых нескольких строк очищенного текста\n",
    "cleaned_df.show(truncate=False)"
   ]
  },
  {
   "cell_type": "code",
   "execution_count": 24,
   "metadata": {},
   "outputs": [
    {
     "name": "stdout",
     "output_type": "stream",
     "text": [
      "+--------------------+\n",
      "|                line|\n",
      "+--------------------+\n",
      "|transhumanism inc...|\n",
      "|виктор олегович п...|\n",
      "|единственный и не...|\n",
      "|в будущем богатые...|\n",
      "|но в банку пустят...|\n",
      "|кто и как будет б...|\n",
      "|в связи с нравств...|\n",
      "|больше интересных...|\n",
      "|виктор олегович п...|\n",
      "|   transhumanism inc|\n",
      "+--------------------+\n",
      "only showing top 10 rows\n",
      "\n"
     ]
    }
   ],
   "source": [
    "# Вывод первых нескольких строк очищенного текста\n",
    "cleaned_df.show(10)"
   ]
  },
  {
   "cell_type": "code",
   "execution_count": 25,
   "metadata": {},
   "outputs": [],
   "source": [
    "# Разделение строк на отдельные слова\n",
    "words_df = cleaned_df.withColumn(\"word\", explode(split(col(\"line\"), \"\\s+\")))\n",
    "\n",
    "# Удаление пустых значений (если есть)\n",
    "words_df = words_df.filter(col(\"word\") != \"\")\n",
    "\n",
    "# Подсчет количества каждого слова\n",
    "word_count_df = words_df.groupBy(\"word\").count().orderBy(col(\"count\").desc())"
   ]
  },
  {
   "cell_type": "code",
   "execution_count": 26,
   "metadata": {},
   "outputs": [
    {
     "name": "stdout",
     "output_type": "stream",
     "text": [
      "+----+-----+\n",
      "|word|count|\n",
      "+----+-----+\n",
      "|и   |798  |\n",
      "|в   |681  |\n",
      "|не  |460  |\n",
      "|на  |399  |\n",
      "|что |283  |\n",
      "|с   |260  |\n",
      "|но  |230  |\n",
      "|а   |211  |\n",
      "|как |207  |\n",
      "|маня|199  |\n",
      "+----+-----+\n",
      "only showing top 10 rows\n",
      "\n"
     ]
    }
   ],
   "source": [
    "# Вывод результата\n",
    "word_count_df.show(10, truncate=False)  # Покажем 10 самых частых слов"
   ]
  },
  {
   "cell_type": "code",
   "execution_count": 27,
   "metadata": {},
   "outputs": [
    {
     "data": {
      "text/plain": [
       "8704"
      ]
     },
     "execution_count": 27,
     "metadata": {},
     "output_type": "execute_result"
    }
   ],
   "source": [
    "# Получение уникальных слов и сортировка их в алфавитном порядке\n",
    "unique_words_df = words_df.select(\"word\").distinct().orderBy(\"word\")\n",
    "\n",
    "# Количество уникальных слов\n",
    "unique_words_df.count()"
   ]
  },
  {
   "cell_type": "code",
   "execution_count": 28,
   "metadata": {},
   "outputs": [
    {
     "name": "stdout",
     "output_type": "stream",
     "text": [
      "+------------+\n",
      "|word        |\n",
      "+------------+\n",
      "|1           |\n",
      "|187         |\n",
      "|2           |\n",
      "|2021        |\n",
      "|206         |\n",
      "|206год      |\n",
      "|3           |\n",
      "|3dтехнологию|\n",
      "|7           |\n",
      "|a           |\n",
      "+------------+\n",
      "only showing top 10 rows\n",
      "\n"
     ]
    }
   ],
   "source": [
    "# Вывод результата\n",
    "unique_words_df.show(10, truncate=False)  # Покажем первые 10 слов для примера"
   ]
  },
  {
   "cell_type": "code",
   "execution_count": 29,
   "metadata": {},
   "outputs": [],
   "source": [
    "# Сохранение списка уникальных слов в файл\n",
    "unique_words_df.coalesce(1).write.mode(\"overwrite\").text(\"hdfs://namenode:8020/unique1.txt\")"
   ]
  },
  {
   "cell_type": "code",
   "execution_count": null,
   "metadata": {},
   "outputs": [],
   "source": [
    "# Анализ тональности текста"
   ]
  },
  {
   "cell_type": "code",
   "execution_count": 31,
   "metadata": {},
   "outputs": [
    {
     "name": "stdout",
     "output_type": "stream",
     "text": [
      "Collecting textblob\n",
      "  Downloading textblob-0.17.1-py2.py3-none-any.whl (636 kB)\n",
      "\u001b[K     |████████████████████████████████| 636 kB 484 kB/s eta 0:00:01\n",
      "\u001b[?25hCollecting nltk>=3.1; python_version >= \"3\"\n",
      "  Downloading nltk-3.8.1-py3-none-any.whl (1.5 MB)\n",
      "\u001b[K     |████████████████████████████████| 1.5 MB 14.9 MB/s eta 0:00:01\n",
      "\u001b[?25hCollecting regex>=2021.8.3\n",
      "  Downloading regex-2024.4.16-cp37-cp37m-manylinux_2_17_x86_64.manylinux2014_x86_64.whl (761 kB)\n",
      "\u001b[K     |████████████████████████████████| 761 kB 17.3 MB/s eta 0:00:01     |█████████████▍                  | 317 kB 17.3 MB/s eta 0:00:01\n",
      "\u001b[?25hRequirement already satisfied: joblib in /opt/conda/lib/python3.7/site-packages (from nltk>=3.1; python_version >= \"3\"->textblob) (0.15.1)\n",
      "Requirement already satisfied: click in /opt/conda/lib/python3.7/site-packages (from nltk>=3.1; python_version >= \"3\"->textblob) (7.1.2)\n",
      "Requirement already satisfied: tqdm in /opt/conda/lib/python3.7/site-packages (from nltk>=3.1; python_version >= \"3\"->textblob) (4.46.1)\n",
      "Installing collected packages: regex, nltk, textblob\n",
      "Successfully installed nltk-3.8.1 regex-2024.4.16 textblob-0.17.1\n"
     ]
    }
   ],
   "source": [
    "!pip install textblob"
   ]
  },
  {
   "cell_type": "code",
   "execution_count": 48,
   "metadata": {},
   "outputs": [],
   "source": [
    "# Чтение файла из HDFS\n",
    "df = spark.read.text(\"hdfs://namenode:8020/pilevin.txt\")"
   ]
  },
  {
   "cell_type": "code",
   "execution_count": 49,
   "metadata": {},
   "outputs": [
    {
     "name": "stdout",
     "output_type": "stream",
     "text": [
      "Полярность: -0.6145833333333334, Субъективность: 0.5666666666666667\n"
     ]
    }
   ],
   "source": [
    "# Собираем все строки в один текст\n",
    "full_text = \" \".join(row['value'] for row in df.collect())\n",
    "\n",
    "# Анализ тональности всего текста\n",
    "blob = TextBlob(full_text)\n",
    "print(f\"Полярность: {blob.sentiment.polarity}, Субъективность: {blob.sentiment.subjectivity}\")"
   ]
  },
  {
   "cell_type": "code",
   "execution_count": null,
   "metadata": {},
   "outputs": [],
   "source": [
    "\"\"\"\n",
    "Пояснение:\n",
    "Полярность (Polarity: -0.6145833333333334):\n",
    "Полярность отражает эмоциональный тон текста и принимает значения от -1 до 1:\n",
    "-1 означает крайне негативную тональность.\n",
    "0 означает нейтральную тональность.\n",
    "1 означает крайне позитивную тональность.\n",
    "В данном случае значение -0.614 указывает на довольно выраженную негативную тональность текста, то есть текст содержит много негативных слов или фраз.\n",
    "\n",
    "Субъективность (Subjectivity: 0.5666666666666667):\n",
    "Субъективность указывает, насколько текст субъективен или объективен:\n",
    "Значение 0 означает полностью объективный, фактологический текст.\n",
    "Значение 1 означает полностью субъективный, основанный на мнениях, чувствах и предположениях текст.\n",
    "\"\"\""
   ]
  }
 ],
 "metadata": {
  "kernelspec": {
   "display_name": "Python 3",
   "language": "python",
   "name": "python3"
  },
  "language_info": {
   "codemirror_mode": {
    "name": "ipython",
    "version": 3
   },
   "file_extension": ".py",
   "mimetype": "text/x-python",
   "name": "python",
   "nbconvert_exporter": "python",
   "pygments_lexer": "ipython3",
   "version": "3.7.6"
  }
 },
 "nbformat": 4,
 "nbformat_minor": 4
}
